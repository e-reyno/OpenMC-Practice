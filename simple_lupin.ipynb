{
 "cells": [
  {
   "cell_type": "code",
   "execution_count": 1,
   "id": "ec8ec477-76d8-4123-989a-fde96a4a955a",
   "metadata": {},
   "outputs": [],
   "source": [
    "import openmc\n",
    "import matplotlib.pyplot as plt\n",
    "import numpy as np\n",
    "import openmc_source_plotter"
   ]
  },
  {
   "cell_type": "code",
   "execution_count": 2,
   "id": "b620dd37-1293-4bb2-8d5a-abd4663a68ec",
   "metadata": {},
   "outputs": [],
   "source": [
    "#Lupin materials\n",
    "\n",
    "#lead casing\n",
    "lead = openmc.Material(name='lead')\n",
    "lead.add_element('Pb', 1, 'ao')\n",
    "#aluminium shell\n",
    "al = openmc.Material(name='aluminium')\n",
    "al.add_element('Al', 1, 'ao')\n",
    "#cadmium \n",
    "cadmium = openmc.Material(name='cadmium')\n",
    "cadmium.add_element('Cd', 1, 'ao')\n",
    "#BF3\n",
    "bf3 = openmc.Material(name='bf3')\n",
    "bf3.add_elements_from_formula('BF3')\n",
    "bf3.set_density('g/cm3', 0.00276)\n",
    "#polyethylene\n",
    "polyethylene = openmc.Material(name='polyethylene')\n",
    "polyethylene.add_elements_from_formula('C2H4')\n",
    "polyethylene.set_density('kg/m3',940)\n",
    "\n",
    "materials = openmc.Materials([lead, al, cadmium, bf3, polyethylene])\n",
    "materials.export_to_xml()"
   ]
  },
  {
   "cell_type": "code",
   "execution_count": 11,
   "id": "6d65f73a-72ff-439e-8935-a00e68e14d7b",
   "metadata": {},
   "outputs": [
    {
     "data": {
      "image/png": "[encoded data removed]",
      "text/plain": [
       "<Figure size 258.065x259.74 with 1 Axes>"
      ]
     },
     "metadata": {},
     "output_type": "display_data"
    },
    {
     "data": {
      "image/png": "[encoded data removed]",
      "text/plain": [
       "<Figure size 258.065x259.74 with 1 Axes>"
      ]
     },
     "metadata": {},
     "output_type": "display_data"
    },
    {
     "data": {
      "image/png": "[encoded data removed]",
      "text/plain": [
       "<Figure size 258.065x259.74 with 1 Axes>"
      ]
     },
     "metadata": {},
     "output_type": "display_data"
    }
   ],
   "source": [
    "#lupin geometry\n",
    "cylinder_radius = 0.054\n",
    "detector_radius = 0.0215\n",
    "detector_height = 0.047\n",
    "cylinder_height = 0.297\n",
    "shielding_thickness = 0.0015\n",
    "outer_cylinder_radius = 0.125\n",
    "lead_thickness = 0.0001\n",
    "lead_height = 0.141\n",
    "\n",
    "big_cd_height = 0.05\n",
    "small_cd_height = 0.025\n",
    "cd_thickness = 0.00005\n",
    "cd_gap = 0.02425\n",
    "\n",
    "\n",
    "outer_sphere = openmc.Sphere(r=0.5, boundary_type='vacuum')\n",
    "outer_cylinder = openmc.ZCylinder(r=outer_cylinder_radius)\n",
    "inner_cylinder = openmc.ZCylinder(r=cylinder_radius)\n",
    "detector = openmc.ZCylinder(r=detector_radius)\n",
    "\n",
    "top_cylinder = openmc.ZPlane(z0=0.5*cylinder_height)\n",
    "bottom_cylinder = openmc.ZPlane(z0=-0.5*cylinder_height)\n",
    "bottom_detector = openmc.ZPlane(z0=-0.5*cylinder_height+detector_height)\n",
    "\n",
    "source_region = -outer_sphere &((+top_cylinder)  |  ( -bottom_cylinder) | (+outer_cylinder))\n",
    "source_cell = openmc.Cell(region=source_region)\n",
    "\n",
    "outer_poly_region = -outer_cylinder & +inner_cylinder & +bottom_cylinder & -top_cylinder\n",
    "outer_poly_cell = openmc.Cell(region=outer_poly_region)\n",
    "\n",
    "inner_poly_region = (-inner_cylinder & +detector & -top_cylinder & +bottom_cylinder) | (-bottom_detector & -detector)\n",
    "inner_poly_cell = openmc.Cell(region=inner_poly_region)\n",
    "\n",
    "detector_region = -detector & +bottom_detector & -top_cylinder\n",
    "detector_cell = openmc.Cell(region=detector_region)\n",
    "\n",
    "universe = openmc.Universe(cells=[source_cell,outer_poly_cell, inner_poly_cell, detector_cell])\n",
    "\n",
    "x,y = 1,1\n",
    "\"\"\"color_assignment = {detector_cell : 'blue',\n",
    "                    shielding_cell : 'grey',\n",
    "                    inner_poly_cell : 'green',\n",
    "                    cd_cell : 'orange',\n",
    "                    lead_cell : 'black',\n",
    "                    outer_poly_cell :'limegreen',\n",
    "                   source_cell : 'black'}\"\"\"\n",
    "plt.show(universe.plot(width=(x, y), basis='xz'))\n",
    "plt.show(universe.plot(width=(x, y), basis='xy'))\n",
    "plt.show(universe.plot(width=(x, y), basis='yz'))\n",
    "\n",
    "geometry = openmc.Geometry(universe)\n",
    "geometry.export_to_xml()"
   ]
  },
  {
   "cell_type": "code",
   "execution_count": 12,
   "id": "9b1ab8c7-1b29-448f-9bd8-034c12f73ce3",
   "metadata": {},
   "outputs": [
    {
     "name": "stdout",
     "output_type": "stream",
     "text": [
      "                                %%%%%%%%%%%%%%%\n",
      "                           %%%%%%%%%%%%%%%%%%%%%%%%\n",
      "                        %%%%%%%%%%%%%%%%%%%%%%%%%%%%%%\n",
      "                      %%%%%%%%%%%%%%%%%%%%%%%%%%%%%%%%%%\n",
      "                    %%%%%%%%%%%%%%%%%%%%%%%%%%%%%%%%%%%%%%\n",
      "                   %%%%%%%%%%%%%%%%%%%%%%%%%%%%%%%%%%%%%%%%\n",
      "                                    %%%%%%%%%%%%%%%%%%%%%%%%\n",
      "                                     %%%%%%%%%%%%%%%%%%%%%%%%\n",
      "                 ###############      %%%%%%%%%%%%%%%%%%%%%%%%\n",
      "                ##################     %%%%%%%%%%%%%%%%%%%%%%%\n",
      "                ###################     %%%%%%%%%%%%%%%%%%%%%%%\n",
      "                ####################     %%%%%%%%%%%%%%%%%%%%%%\n",
      "                #####################     %%%%%%%%%%%%%%%%%%%%%\n",
      "                ######################     %%%%%%%%%%%%%%%%%%%%\n",
      "                #######################     %%%%%%%%%%%%%%%%%%\n",
      "                 #######################     %%%%%%%%%%%%%%%%%\n",
      "                 ######################     %%%%%%%%%%%%%%%%%\n",
      "                  ####################     %%%%%%%%%%%%%%%%%\n",
      "                    #################     %%%%%%%%%%%%%%%%%\n",
      "                     ###############     %%%%%%%%%%%%%%%%\n",
      "                       ############     %%%%%%%%%%%%%%%\n",
      "                          ########     %%%%%%%%%%%%%%\n",
      "                                      %%%%%%%%%%%\n",
      "\n",
      "                 | The OpenMC Monte Carlo Code\n",
      "       Copyright | 2011-2022 MIT, UChicago Argonne LLC, and contributors\n",
      "         License | https://docs.openmc.org/en/latest/license.html\n",
      "         Version | 0.14.0-dev\n",
      "        Git SHA1 | bdb6d38bfdfdf640785cefd0db618d242f55962e\n",
      "       Date/Time | 2022-09-22 16:06:11\n",
      "  OpenMP Threads | 8\n",
      "\n",
      " Reading settings XML file...\n",
      " Reading cross sections XML file...\n",
      " Reading materials XML file...\n",
      " Reading geometry XML file...\n",
      " Reading tallies XML file...\n",
      " Preparing distributed cell instances...\n",
      " Reading plot XML file...\n",
      "\n",
      " =======================>     PLOTTING SUMMARY     <========================\n",
      "\n",
      "Plot ID: 16\n",
      "Plot file: plot_lupin.h5\n",
      "Universe depth: -1\n",
      "Plot Type: Voxel\n",
      "Origin: 0 0 0\n",
      "Width:    1    1    1\n",
      "Coloring: Materials\n",
      "Voxels: 300 300 300\n",
      "\n",
      " Processing plot 16: plot_lupin.h5...\n",
      "Reading and translating data...\n",
      "Writing VTK file plot_lupin.vti...\n"
     ]
    },
    {
     "data": {
      "text/html": [
       "<a href='plot_lupin.vti' target='_blank'>plot_lupin.vti</a><br>"
      ],
      "text/plain": [
       "/tasks/LUPIN/plot_lupin.vti"
      ]
     },
     "metadata": {},
     "output_type": "display_data"
    }
   ],
   "source": [
    "# makes the 3d \"cube\" style geometry\n",
    "vox_plot = openmc.Plot()\n",
    "vox_plot.type = 'voxel'\n",
    "vox_plot.width = (1,1,1)\n",
    "vox_plot.pixels = (300,300,300)\n",
    "vox_plot.filename = 'plot_lupin'\n",
    "vox_plot.color_by = 'material'\n",
    "# vox_plot.colors = {copper: 'blue'}  # materials can be coloured using this command\n",
    "plots = openmc.Plots([vox_plot])\n",
    "plots.export_to_xml()\n",
    "\n",
    "openmc.plot_geometry()\n",
    "import os\n",
    "os.system('openmc-voxel-to-vtk plot_lupin.h5 -o plot_lupin.vti')\n",
    "\n",
    "from IPython.display import FileLink\n",
    "display(FileLink('plot_lupin.vti'))"
   ]
  },
  {
   "cell_type": "code",
   "execution_count": 4,
   "id": "e7c2c7a0-3733-4c69-b5a7-98c23dd7c746",
   "metadata": {},
   "outputs": [],
   "source": [
    "#now create the source\n",
    "#spherical source enclosing the detector\n",
    "sett = openmc.Settings()\n",
    "sett.particles = 10000\n",
    "sett.batches = 5\n",
    "sett.inactive = 0\n",
    "sett.run_mode = 'fixed source'\n",
    "\n",
    "sphere_source = openmc.Source()\n",
    "\n",
    "phi_angle = openmc.stats.Uniform(a=0., b= 2*3.14159265359)\n",
    "theta_angle = openmc.stats.Uniform(a=0., b= 2*3.14159265359)\n",
    "source_distance = radius = openmc.stats.Discrete([-0.5, 0.5], [0.5,0.5]) #m away from the lupin detector\n",
    "\n",
    "sphere_source.particle = 'neutron'\n",
    "sphere_source.energy = openmc.stats.Discrete([14e6],[1])\n",
    "sphere_source.angle = openmc.stats.Isotropic()\n",
    "sphere_source.space = openmc.stats.SphericalIndependent(source_distance, theta_angle, phi_angle, origin=(0.0, 0.0, 0.0))\n",
    "\n",
    "#sphere_source.plot_source_position()"
   ]
  },
  {
   "cell_type": "code",
   "execution_count": 5,
   "id": "697227a1-9eee-494a-b52d-5b6fbea460c0",
   "metadata": {},
   "outputs": [],
   "source": [
    "#now create a tally to calibrate the detector\n",
    "tallies = openmc.Tallies()\n",
    "neutron_particle_filter = openmc.ParticleFilter(['neutron'])\n",
    "\n",
    "energy_filter = openmc.EnergyFilter(np.linspace(0,15e6,200))\n",
    "detector_cell_filter = openmc.CellFilter(detector_cell)\n",
    "detector_tally = openmc.Tally()\n",
    "detector_tally.scores = ['flux']\n",
    "detector_tally.filters = [detector_cell_filter, neutron_particle_filter, energy_filter]\n",
    "tallies.append(detector_tally)"
   ]
  },
  {
   "cell_type": "code",
   "execution_count": 6,
   "id": "73672864-0778-4e8e-94a8-12ed6f1be04a",
   "metadata": {},
   "outputs": [
    {
     "name": "stdout",
     "output_type": "stream",
     "text": [
      "                                %%%%%%%%%%%%%%%\n",
      "                           %%%%%%%%%%%%%%%%%%%%%%%%\n",
      "                        %%%%%%%%%%%%%%%%%%%%%%%%%%%%%%\n",
      "                      %%%%%%%%%%%%%%%%%%%%%%%%%%%%%%%%%%\n",
      "                    %%%%%%%%%%%%%%%%%%%%%%%%%%%%%%%%%%%%%%\n",
      "                   %%%%%%%%%%%%%%%%%%%%%%%%%%%%%%%%%%%%%%%%\n",
      "                                    %%%%%%%%%%%%%%%%%%%%%%%%\n",
      "                                     %%%%%%%%%%%%%%%%%%%%%%%%\n",
      "                 ###############      %%%%%%%%%%%%%%%%%%%%%%%%\n",
      "                ##################     %%%%%%%%%%%%%%%%%%%%%%%\n",
      "                ###################     %%%%%%%%%%%%%%%%%%%%%%%\n",
      "                ####################     %%%%%%%%%%%%%%%%%%%%%%\n",
      "                #####################     %%%%%%%%%%%%%%%%%%%%%\n",
      "                ######################     %%%%%%%%%%%%%%%%%%%%\n",
      "                #######################     %%%%%%%%%%%%%%%%%%\n",
      "                 #######################     %%%%%%%%%%%%%%%%%\n",
      "                 ######################     %%%%%%%%%%%%%%%%%\n",
      "                  ####################     %%%%%%%%%%%%%%%%%\n",
      "                    #################     %%%%%%%%%%%%%%%%%\n",
      "                     ###############     %%%%%%%%%%%%%%%%\n",
      "                       ############     %%%%%%%%%%%%%%%\n",
      "                          ########     %%%%%%%%%%%%%%\n",
      "                                      %%%%%%%%%%%\n",
      "\n",
      "                 | The OpenMC Monte Carlo Code\n",
      "       Copyright | 2011-2022 MIT, UChicago Argonne LLC, and contributors\n",
      "         License | https://docs.openmc.org/en/latest/license.html\n",
      "         Version | 0.14.0-dev\n",
      "        Git SHA1 | bdb6d38bfdfdf640785cefd0db618d242f55962e\n",
      "       Date/Time | 2022-09-22 15:58:21\n",
      "  OpenMP Threads | 8\n",
      "\n",
      " Reading settings XML file...\n",
      " Reading cross sections XML file...\n",
      " Reading materials XML file...\n",
      " Reading geometry XML file...\n",
      " Reading Pb204 from /nuclear_data/ENDFB-7.1-NNDC_Pb204.h5\n",
      " Reading Pb206 from /nuclear_data/ENDFB-7.1-NNDC_Pb206.h5\n",
      " Reading Pb207 from /nuclear_data/ENDFB-7.1-NNDC_Pb207.h5\n",
      " Reading Pb208 from /nuclear_data/ENDFB-7.1-NNDC_Pb208.h5\n",
      " Reading Al27 from /nuclear_data/ENDFB-7.1-NNDC_Al27.h5\n",
      " Reading Cd106 from /nuclear_data/ENDFB-7.1-NNDC_Cd106.h5\n",
      " WARNING: Negative value(s) found on probability table for nuclide Cd106 at 294K\n",
      " Reading Cd108 from /nuclear_data/ENDFB-7.1-NNDC_Cd108.h5\n",
      " Reading Cd110 from /nuclear_data/ENDFB-7.1-NNDC_Cd110.h5\n",
      " Reading Cd111 from /nuclear_data/ENDFB-7.1-NNDC_Cd111.h5\n",
      " Reading Cd112 from /nuclear_data/ENDFB-7.1-NNDC_Cd112.h5\n",
      " Reading Cd113 from /nuclear_data/ENDFB-7.1-NNDC_Cd113.h5\n",
      " Reading Cd114 from /nuclear_data/ENDFB-7.1-NNDC_Cd114.h5\n",
      " Reading Cd116 from /nuclear_data/ENDFB-7.1-NNDC_Cd116.h5\n",
      " Reading B10 from /nuclear_data/ENDFB-7.1-NNDC_B10.h5\n",
      " Reading B11 from /nuclear_data/ENDFB-7.1-NNDC_B11.h5\n",
      " Reading F19 from /nuclear_data/ENDFB-7.1-NNDC_F19.h5\n",
      " Reading C12 from /nuclear_data/TENDL-2019_C12.h5\n",
      " Reading C13 from /nuclear_data/TENDL-2019_C13.h5\n",
      " Reading H1 from /nuclear_data/ENDFB-7.1-NNDC_H1.h5\n",
      " Reading H2 from /nuclear_data/ENDFB-7.1-NNDC_H2.h5\n",
      " Minimum neutron data temperature: 294 K\n",
      " Maximum neutron data temperature: 294 K\n",
      " Reading tallies XML file...\n",
      " Preparing distributed cell instances...\n",
      " Reading plot XML file...\n",
      " Writing summary.h5 file...\n",
      " Maximum neutron transport energy: 20000000 eV for Cd106\n",
      "\n",
      " ===============>     FIXED SOURCE TRANSPORT SIMULATION     <===============\n",
      "\n",
      " Simulating batch 1\n",
      " WARNING: After particle 1438 crossed surface 4 it could not be located in any\n",
      "          cell and it did not leak.\n",
      " WARNING: After particle 3387 crossed surface 4 it could not be located in any\n",
      "          cell and it did not leak.\n",
      " WARNING: After particle 8573 crossed surface 4 it could not be located in any\n",
      "          cell and it did not leak.\n",
      " WARNING: After particle 2145 crossed surface 4 it could not be located in any\n",
      "          cell and it did not leak.\n",
      " WARNING: After particle 7282 crossed surface 4 it could not be located in any\n",
      "          cell and it did not leak.\n",
      " Simulating batch 2\n",
      " WARNING: After particle 4492 crossed surface 4 it could not be located in any\n",
      "          cell and it did not leak.\n",
      " WARNING: After particle 1123 crossed surface 4 it could not be located in any\n",
      "          cell and it did not leak.\n",
      " WARNING: After particle 2446 crossed surface 4 it could not be located in any\n",
      "          cell and it did not leak.\n",
      " Simulating batch 3\n",
      " WARNING: After particle 88 crossed surface 4 it could not be located in any\n",
      "          cell and it did not leak.\n",
      " WARNING: After particle 6607 crossed surface 4 it could not be located in any\n",
      "          cell and it did not leak.\n",
      " WARNING: After particle 1832 crossed surface 4 it could not be located in any\n",
      "          cell and it did not leak.\n",
      " ERROR: Maximum number of lost particles has been reached.\n"
     ]
    },
    {
     "ename": "RuntimeError",
     "evalue": "Maximum number of lost particles has been reached.",
     "output_type": "error",
     "traceback": [
      "\u001b[0;31m---------------------------------------------------------------------------\u001b[0m",
      "\u001b[0;31mRuntimeError\u001b[0m                              Traceback (most recent call last)",
      "Cell \u001b[0;32mIn [6], line 4\u001b[0m\n\u001b[1;32m      2\u001b[0m \u001b[38;5;66;03m# remove old files and runs OpenMC\u001b[39;00m\n\u001b[1;32m      3\u001b[0m get_ipython()\u001b[38;5;241m.\u001b[39msystem(\u001b[38;5;124m'\u001b[39m\u001b[38;5;124mrm *.h5\u001b[39m\u001b[38;5;124m'\u001b[39m)\n\u001b[0;32m----> 4\u001b[0m results_filename \u001b[38;5;241m=\u001b[39m \u001b[43mmodel\u001b[49m\u001b[38;5;241;43m.\u001b[39;49m\u001b[43mrun\u001b[49m\u001b[43m(\u001b[49m\u001b[43m)\u001b[49m\n",
      "File \u001b[0;32m/opt/conda/lib/python3.8/site-packages/openmc/model/model.py:584\u001b[0m, in \u001b[0;36mModel.run\u001b[0;34m(self, particles, threads, geometry_debug, restart_file, tracks, output, cwd, openmc_exec, mpi_args, event_based)\u001b[0m\n\u001b[1;32m    581\u001b[0m \u001b[38;5;28;01melse\u001b[39;00m:\n\u001b[1;32m    582\u001b[0m     \u001b[38;5;66;03m# Then run via the command line\u001b[39;00m\n\u001b[1;32m    583\u001b[0m     \u001b[38;5;28mself\u001b[39m\u001b[38;5;241m.\u001b[39mexport_to_xml()\n\u001b[0;32m--> 584\u001b[0m     \u001b[43mopenmc\u001b[49m\u001b[38;5;241;43m.\u001b[39;49m\u001b[43mrun\u001b[49m\u001b[43m(\u001b[49m\u001b[43mparticles\u001b[49m\u001b[43m,\u001b[49m\u001b[43m \u001b[49m\u001b[43mthreads\u001b[49m\u001b[43m,\u001b[49m\u001b[43m \u001b[49m\u001b[43mgeometry_debug\u001b[49m\u001b[43m,\u001b[49m\u001b[43m \u001b[49m\u001b[43mrestart_file\u001b[49m\u001b[43m,\u001b[49m\n\u001b[1;32m    585\u001b[0m \u001b[43m               \u001b[49m\u001b[43mtracks\u001b[49m\u001b[43m,\u001b[49m\u001b[43m \u001b[49m\u001b[43moutput\u001b[49m\u001b[43m,\u001b[49m\u001b[43m \u001b[49m\u001b[43mPath\u001b[49m\u001b[43m(\u001b[49m\u001b[38;5;124;43m'\u001b[39;49m\u001b[38;5;124;43m.\u001b[39;49m\u001b[38;5;124;43m'\u001b[39;49m\u001b[43m)\u001b[49m\u001b[43m,\u001b[49m\u001b[43m \u001b[49m\u001b[43mopenmc_exec\u001b[49m\u001b[43m,\u001b[49m\u001b[43m \u001b[49m\u001b[43mmpi_args\u001b[49m\u001b[43m,\u001b[49m\n\u001b[1;32m    586\u001b[0m \u001b[43m               \u001b[49m\u001b[43mevent_based\u001b[49m\u001b[43m)\u001b[49m\n\u001b[1;32m    588\u001b[0m \u001b[38;5;66;03m# Get output directory and return the last statepoint written\u001b[39;00m\n\u001b[1;32m    589\u001b[0m \u001b[38;5;28;01mif\u001b[39;00m \u001b[38;5;28mself\u001b[39m\u001b[38;5;241m.\u001b[39msettings\u001b[38;5;241m.\u001b[39moutput \u001b[38;5;129;01mand\u001b[39;00m \u001b[38;5;124m'\u001b[39m\u001b[38;5;124mpath\u001b[39m\u001b[38;5;124m'\u001b[39m \u001b[38;5;129;01min\u001b[39;00m \u001b[38;5;28mself\u001b[39m\u001b[38;5;241m.\u001b[39msettings\u001b[38;5;241m.\u001b[39moutput:\n",
      "File \u001b[0;32m/opt/conda/lib/python3.8/site-packages/openmc/executor.py:276\u001b[0m, in \u001b[0;36mrun\u001b[0;34m(particles, threads, geometry_debug, restart_file, tracks, output, cwd, openmc_exec, mpi_args, event_based)\u001b[0m\n\u001b[1;32m    232\u001b[0m \u001b[38;5;124;03m\"\"\"Run an OpenMC simulation.\u001b[39;00m\n\u001b[1;32m    233\u001b[0m \n\u001b[1;32m    234\u001b[0m \u001b[38;5;124;03mParameters\u001b[39;00m\n\u001b[0;32m   (...)\u001b[0m\n\u001b[1;32m    268\u001b[0m \n\u001b[1;32m    269\u001b[0m \u001b[38;5;124;03m\"\"\"\u001b[39;00m\n\u001b[1;32m    271\u001b[0m args \u001b[38;5;241m=\u001b[39m _process_CLI_arguments(\n\u001b[1;32m    272\u001b[0m     volume\u001b[38;5;241m=\u001b[39m\u001b[38;5;28;01mFalse\u001b[39;00m, geometry_debug\u001b[38;5;241m=\u001b[39mgeometry_debug, particles\u001b[38;5;241m=\u001b[39mparticles,\n\u001b[1;32m    273\u001b[0m     restart_file\u001b[38;5;241m=\u001b[39mrestart_file, threads\u001b[38;5;241m=\u001b[39mthreads, tracks\u001b[38;5;241m=\u001b[39mtracks,\n\u001b[1;32m    274\u001b[0m     event_based\u001b[38;5;241m=\u001b[39mevent_based, openmc_exec\u001b[38;5;241m=\u001b[39mopenmc_exec, mpi_args\u001b[38;5;241m=\u001b[39mmpi_args)\n\u001b[0;32m--> 276\u001b[0m \u001b[43m_run\u001b[49m\u001b[43m(\u001b[49m\u001b[43margs\u001b[49m\u001b[43m,\u001b[49m\u001b[43m \u001b[49m\u001b[43moutput\u001b[49m\u001b[43m,\u001b[49m\u001b[43m \u001b[49m\u001b[43mcwd\u001b[49m\u001b[43m)\u001b[49m\n",
      "File \u001b[0;32m/opt/conda/lib/python3.8/site-packages/openmc/executor.py:116\u001b[0m, in \u001b[0;36m_run\u001b[0;34m(args, output, cwd)\u001b[0m\n\u001b[1;32m    113\u001b[0m     error_msg \u001b[38;5;241m=\u001b[39m \u001b[38;5;124m'\u001b[39m\u001b[38;5;124mOpenMC aborted unexpectedly.\u001b[39m\u001b[38;5;124m'\u001b[39m\n\u001b[1;32m    114\u001b[0m error_msg \u001b[38;5;241m=\u001b[39m \u001b[38;5;124m'\u001b[39m\u001b[38;5;124m \u001b[39m\u001b[38;5;124m'\u001b[39m\u001b[38;5;241m.\u001b[39mjoin(error_msg\u001b[38;5;241m.\u001b[39msplit())\n\u001b[0;32m--> 116\u001b[0m \u001b[38;5;28;01mraise\u001b[39;00m \u001b[38;5;167;01mRuntimeError\u001b[39;00m(error_msg)\n",
      "\u001b[0;31mRuntimeError\u001b[0m: Maximum number of lost particles has been reached."
     ]
    }
   ],
   "source": [
    "model = openmc.model.Model(geometry, materials, sett, tallies)\n",
    "# remove old files and runs OpenMC\n",
    "!rm *.h5\n",
    "results_filename = model.run()"
   ]
  },
  {
   "cell_type": "code",
   "execution_count": null,
   "id": "c6414906-ed94-457d-898f-9c6fcff6f45d",
   "metadata": {},
   "outputs": [],
   "source": [
    "# open the results file\n",
    "results = openmc.StatePoint(results_filename)\n",
    "\n",
    "#extracts the tally values from the simulation results\n",
    "#cell_tally = results.get_tally(name='detector_tally')"
   ]
  },
  {
   "cell_type": "code",
   "execution_count": null,
   "id": "cb173e4b-e82c-411c-aa7a-fd69698cb874",
   "metadata": {},
   "outputs": [],
   "source": []
  },
  {
   "cell_type": "code",
   "execution_count": null,
   "id": "2f4b09ed-1440-4609-923e-018d577cfe26",
   "metadata": {},
   "outputs": [],
   "source": []
  }
 ],
 "metadata": {
  "kernelspec": {
   "display_name": "Python 3 (ipykernel)",
   "language": "python",
   "name": "python3"
  },
  "language_info": {
   "codemirror_mode": {
    "name": "ipython",
    "version": 3
   },
   "file_extension": ".py",
   "mimetype": "text/x-python",
   "name": "python",
   "nbconvert_exporter": "python",
   "pygments_lexer": "ipython3",
   "version": "3.8.13"
  }
 },
 "nbformat": 4,
 "nbformat_minor": 5
}
