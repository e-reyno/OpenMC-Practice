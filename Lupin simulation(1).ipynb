{
 "cells": [
  {
   "cell_type": "code",
   "execution_count": 8,
   "id": "b707a57a-27af-456a-956b-fd27d636489c",
   "metadata": {},
   "outputs": [],
   "source": [
    "import openmc\n",
    "import matplotlib.pyplot as plt\n",
    "import numpy as np"
   ]
  },
  {
   "cell_type": "code",
   "execution_count": 9,
   "id": "3d14563d-53f5-497c-ba47-4f4b837a806b",
   "metadata": {},
   "outputs": [],
   "source": [
    "#Lupin materials\n",
    "\n",
    "#lead casing\n",
    "lead = openmc.Material(name='lead')\n",
    "lead.add_element('Pb', 1, 'ao')\n",
    "#aluminium shell\n",
    "al = openmc.Material(name='aluminium')\n",
    "al.add_element('Al', 1, 'ao')\n",
    "#cadmium \n",
    "cadmium = openmc.Material(name='cadmium')\n",
    "cadmium.add_element('Cd', 1, 'ao')\n",
    "#BF3\n",
    "bf3 = openmc.Material(name='bf3')\n",
    "bf3.add_elements_from_formula('BF3')\n",
    "#polyethylene\n",
    "polyethylene = openmc.Material(name='polyethylene')\n",
    "polyethylene.add_elements_from_formula('C2H4')\n",
    "polyethylene.set_density('kg/m3',940)\n",
    "mats = openmc.Materials([al, bf3, polyethylene])"
   ]
  },
  {
   "cell_type": "code",
   "execution_count": 10,
   "id": "3388816d-ced3-46d3-807e-9ae2ed410818",
   "metadata": {},
   "outputs": [
    {
     "data": {
      "text/plain": [
       "\"#lupin geometry\\ncylinder_radius = 0.054\\ndetector_radius = 0.0215\\ndetector_height = 0.0455\\ncylinder_height = 0.297\\n\\ninner_polyethylene_cylinder = openmc.ZCylinder(r=cylinder_radius)\\ndetector_cylinder = openmc.ZCylinder(r=detector_radius)\\n\\ntop_cylinder = openmc.ZPlane(z0=cylinder_height*0.5)\\nbottom_cylinder = openmc.ZPlane(z0=-cylinder_height*0.5)\\n\\nbottom_detector = openmc.ZPlane(z0=0.5*(-cylinder_height+detector_height))\\n\\n\\ntop_region = -inner_polyethylene_cylinder & +detector_cylinder & +bottom_detector & -top_cylinder\\nbottom_region = -inner_polyethylene_cylinder & +bottom_cylinder & -bottom_detector\\n\\ninner_polyethylene_cell = openmc.Cell(region=top_region | bottom_region)\\n\\nuniverse = openmc.Universe(cells=[inner_polyethylene_cell])\\n\\nx,y = 0.4,0.4\\n\\nplt.show(universe.plot(width=(x, y), basis='xz'))\\nplt.show(universe.plot(width=(x, y), basis='xy'))\\nplt.show(universe.plot(width=(x, y), basis='yz'))\""
      ]
     },
     "execution_count": 10,
     "metadata": {},
     "output_type": "execute_result"
    }
   ],
   "source": [
    "\"\"\"#lupin geometry\n",
    "cylinder_radius = 0.054\n",
    "detector_radius = 0.0215\n",
    "detector_height = 0.0455\n",
    "cylinder_height = 0.297\n",
    "\n",
    "inner_polyethylene_cylinder = openmc.ZCylinder(r=cylinder_radius)\n",
    "detector_cylinder = openmc.ZCylinder(r=detector_radius)\n",
    "\n",
    "top_cylinder = openmc.ZPlane(z0=cylinder_height*0.5)\n",
    "bottom_cylinder = openmc.ZPlane(z0=-cylinder_height*0.5)\n",
    "\n",
    "bottom_detector = openmc.ZPlane(z0=0.5*(-cylinder_height+detector_height))\n",
    "\n",
    "\n",
    "top_region = -inner_polyethylene_cylinder & +detector_cylinder & +bottom_detector & -top_cylinder\n",
    "bottom_region = -inner_polyethylene_cylinder & +bottom_cylinder & -bottom_detector\n",
    "\n",
    "inner_polyethylene_cell = openmc.Cell(region=top_region | bottom_region)\n",
    "\n",
    "universe = openmc.Universe(cells=[inner_polyethylene_cell])\n",
    "\n",
    "x,y = 0.4,0.4\n",
    "\n",
    "plt.show(universe.plot(width=(x, y), basis='xz'))\n",
    "plt.show(universe.plot(width=(x, y), basis='xy'))\n",
    "plt.show(universe.plot(width=(x, y), basis='yz'))\"\"\""
   ]
  },
  {
   "cell_type": "code",
   "execution_count": 11,
   "id": "c14012ce-2ece-4f13-9d8b-cac82c0df55f",
   "metadata": {},
   "outputs": [
    {
     "data": {
      "image/png": "[encoded data removed]",
      "text/plain": [
       "<Figure size 258.065x259.74 with 1 Axes>"
      ]
     },
     "metadata": {},
     "output_type": "display_data"
    },
    {
     "data": {
      "image/png": "[encoded data removed]",
      "text/plain": [
       "<Figure size 258.065x259.74 with 1 Axes>"
      ]
     },
     "metadata": {},
     "output_type": "display_data"
    },
    {
     "data": {
      "image/png": "[encoded data removed]",
      "text/plain": [
       "<Figure size 258.065x259.74 with 1 Axes>"
      ]
     },
     "metadata": {},
     "output_type": "display_data"
    }
   ],
   "source": [
    "cylinder_radius = 0.054\n",
    "cylinder_height = 0.297\n",
    "shielding_thickness = 0.0015\n",
    "detector_radius = 0.02\n",
    "detector_height = 0.0455\n",
    "source_distance = 0.5\n",
    "\n",
    "source_sphere = openmc.Sphere(r=source_distance)\n",
    "outer_void = openmc.Sphere(r=source_distance + 0.01, boundary_type='vacuum')\n",
    "cylinder = openmc.ZCylinder(r=cylinder_radius)\n",
    "shielding = openmc.ZCylinder(r=detector_radius+shielding_thickness)\n",
    "detector = openmc.ZCylinder(r=detector_radius)\n",
    "\n",
    "\n",
    "top_cylinder = openmc.ZPlane(z0=0.5*cylinder_height)\n",
    "bottom_cylinder = openmc.ZPlane(z0=-0.5*cylinder_height)\n",
    "bottom_detector = openmc.ZPlane(z0=-0.5*cylinder_height+detector_height)\n",
    "bottom_al = openmc.ZPlane(z0=-0.5*cylinder_height+detector_height-shielding_thickness)\n",
    "\n",
    "b_cylinder_r = -cylinder & -bottom_al & +bottom_cylinder\n",
    "outer_top = openmc.ZPlane(z0=(cylinder_height*0.5)+0.01)\n",
    "top_cap_region =  -outer_top & +top_cylinder & -shielding\n",
    "top_cap_cell = openmc.Cell(region=top_cap_region)\n",
    "\n",
    "outer_void_cell = openmc.Cell(region= +source_sphere & -outer_void)\n",
    "\n",
    "sphere_region = (-source_sphere & +cylinder) | (-cylinder & -source_sphere &+top_cylinder) | (-cylinder & -source_sphere & -bottom_cylinder)\n",
    "shielding_region = (-shielding & -top_cylinder & +bottom_al & +detector) | (-detector & -bottom_detector & +bottom_al)\n",
    "poly_region = (-cylinder & -top_cylinder & +bottom_cylinder & +shielding) | b_cylinder_r\n",
    "detector_region = -detector & -top_cylinder & +bottom_detector\n",
    "\n",
    "sphere_cell = openmc.Cell(region=sphere_region)\n",
    "shielding_cell = openmc.Cell(region=shielding_region, fill = al)\n",
    "detector_cell = openmc.Cell(region=detector_region, fill =bf3)\n",
    "poly_cell = openmc.Cell(region=poly_region, fill = polyethylene)\n",
    "\n",
    "universe = openmc.Universe(cells=[sphere_cell, shielding_cell, detector_cell, poly_cell, outer_void_cell])\n",
    "geom = openmc.Geometry(universe)\n",
    "x,y = 1,1\n",
    "colour_assignment = {sphere_cell: 'grey', shielding_cell: 'black', detector_cell: 'blue', poly_cell: 'red'}\n",
    "plt.show(universe.plot(width=(x, y), basis='xz', colors=colour_assignment))\n",
    "plt.show(universe.plot(width=(x, y), basis='xy', colors=colour_assignment))\n",
    "plt.show(universe.plot(width=(x, y), basis='yz', colors=colour_assignment))"
   ]
  },
  {
   "cell_type": "code",
   "execution_count": 12,
   "id": "e2cab8e5-5445-4b8a-944f-06172ce680bc",
   "metadata": {},
   "outputs": [],
   "source": [
    "import openmc\n",
    "import openmc_plotter\n",
    "\n"
   ]
  },
  {
   "cell_type": "code",
   "execution_count": 13,
   "id": "931998f1-e0f9-466b-8bf0-5b561a195a99",
   "metadata": {},
   "outputs": [],
   "source": [
    "#settings\n",
    "import openmc_source_plotter as osp\n",
    "\n",
    "sett = openmc.Settings()\n",
    "sett.batches = 5\n",
    "sett.inactive = 0\n",
    "sett.particles = 10000\n",
    "sett.run_mode = 'fixed source'\n",
    "\n",
    "#source\n",
    "sphere_source = openmc.Source()\n",
    "sphere_source.angle = openmc.stats.Isotropic()\n",
    "sphere_source.energy = openmc.stats.Discrete([14e6], [1])\n",
    "sphere_source.space = openmc.stats.spherical_uniform(r_outer=source_distance, r_inner=source_distance)\n",
    "sphere_source.particle = 'neutron'\n",
    "sett.source = sphere_source\n",
    "\n",
    "#plot = sphere_source.plot_source_position(n_samples=5000)\n",
    "#plot.show()"
   ]
  },
  {
   "cell_type": "code",
   "execution_count": 14,
   "id": "224a1c1f-8789-4b52-8e07-8c2a87ef81d3",
   "metadata": {},
   "outputs": [],
   "source": [
    "#tallies\n",
    "tallies = openmc.Tallies()\n",
    "\n",
    "energy_filter = openmc.EnergyFilter(np.linspace(0,15e6,200))\n",
    "neutron_filter = openmc.ParticleFilter(['neutron'])\n",
    "detector_cell_filter = openmc.CellFilter(detector_cell)\n",
    "\n",
    "detector_tally = openmc.Tally()\n",
    "detector_tally.filters = [energy_filter, neutron_filter, detector_cell_filter]\n",
    "detector_tally.scores = ['flux']\n",
    "tallies.append(detector_tally)"
   ]
  },
  {
   "cell_type": "code",
   "execution_count": 15,
   "id": "8c41e695-3e4b-49d1-917c-be0ad882897a",
   "metadata": {},
   "outputs": [
    {
     "name": "stdout",
     "output_type": "stream",
     "text": [
      "                                %%%%%%%%%%%%%%%\n",
      "                           %%%%%%%%%%%%%%%%%%%%%%%%\n",
      "                        %%%%%%%%%%%%%%%%%%%%%%%%%%%%%%\n",
      "                      %%%%%%%%%%%%%%%%%%%%%%%%%%%%%%%%%%\n",
      "                    %%%%%%%%%%%%%%%%%%%%%%%%%%%%%%%%%%%%%%\n",
      "                   %%%%%%%%%%%%%%%%%%%%%%%%%%%%%%%%%%%%%%%%\n",
      "                                    %%%%%%%%%%%%%%%%%%%%%%%%\n",
      "                                     %%%%%%%%%%%%%%%%%%%%%%%%\n",
      "                 ###############      %%%%%%%%%%%%%%%%%%%%%%%%\n",
      "                ##################     %%%%%%%%%%%%%%%%%%%%%%%\n",
      "                ###################     %%%%%%%%%%%%%%%%%%%%%%%\n",
      "                ####################     %%%%%%%%%%%%%%%%%%%%%%\n",
      "                #####################     %%%%%%%%%%%%%%%%%%%%%\n",
      "                ######################     %%%%%%%%%%%%%%%%%%%%\n",
      "                #######################     %%%%%%%%%%%%%%%%%%\n",
      "                 #######################     %%%%%%%%%%%%%%%%%\n",
      "                 ######################     %%%%%%%%%%%%%%%%%\n",
      "                  ####################     %%%%%%%%%%%%%%%%%\n",
      "                    #################     %%%%%%%%%%%%%%%%%\n",
      "                     ###############     %%%%%%%%%%%%%%%%\n",
      "                       ############     %%%%%%%%%%%%%%%\n",
      "                          ########     %%%%%%%%%%%%%%\n",
      "                                      %%%%%%%%%%%\n",
      "\n",
      "                 | The OpenMC Monte Carlo Code\n",
      "       Copyright | 2011-2022 MIT, UChicago Argonne LLC, and contributors\n",
      "         License | https://docs.openmc.org/en/latest/license.html\n",
      "         Version | 0.14.0-dev\n",
      "        Git SHA1 | fa0f95642e440334ddd6aa2e97d24895d6274834\n",
      "       Date/Time | 2022-09-23 14:49:16\n",
      "  OpenMP Threads | 8\n",
      "\n",
      " Reading settings XML file...\n",
      " Reading cross sections XML file...\n",
      " Reading materials XML file...\n",
      " Reading geometry XML file...\n",
      " Reading Al27 from /nuclear_data/ENDFB-7.1-NNDC_Al27.h5\n",
      " Reading B10 from /nuclear_data/ENDFB-7.1-NNDC_B10.h5\n",
      " Reading B11 from /nuclear_data/ENDFB-7.1-NNDC_B11.h5\n",
      " Reading F19 from /nuclear_data/ENDFB-7.1-NNDC_F19.h5\n",
      " Reading C12 from /nuclear_data/TENDL-2019_C12.h5\n",
      " Reading C13 from /nuclear_data/TENDL-2019_C13.h5\n",
      " Reading H1 from /nuclear_data/ENDFB-7.1-NNDC_H1.h5\n",
      " Reading H2 from /nuclear_data/ENDFB-7.1-NNDC_H2.h5\n",
      " Minimum neutron data temperature: 294 K\n",
      " Maximum neutron data temperature: 294 K\n",
      " Reading tallies XML file...\n",
      " Preparing distributed cell instances...\n",
      " Reading plot XML file...\n",
      " WARNING: Color specifications ignored in voxel plot 22\n",
      " WARNING: Could not find material 12 specified in plot 22\n",
      " WARNING: Could not find material 14 specified in plot 22\n",
      " WARNING: Could not find material 15 specified in plot 22\n",
      " Writing summary.h5 file...\n",
      " Maximum neutron transport energy: 20000000 eV for B10\n",
      "\n",
      " ===============>     FIXED SOURCE TRANSPORT SIMULATION     <===============\n",
      "\n",
      " Simulating batch 1\n",
      " Simulating batch 2\n",
      " Simulating batch 3\n",
      " Simulating batch 4\n",
      " Simulating batch 5\n",
      " Creating state point statepoint.5.h5...\n",
      "\n",
      " =======================>     TIMING STATISTICS     <=======================\n",
      "\n",
      " Total time for initialization     = 6.1653e-01 seconds\n",
      "   Reading cross sections          = 6.0350e-01 seconds\n",
      " Total time in simulation          = 4.5116e-02 seconds\n",
      "   Time in transport only          = 3.9248e-02 seconds\n",
      "   Time in active batches          = 4.5116e-02 seconds\n",
      "   Time accumulating tallies       = 1.9483e-03 seconds\n",
      "   Time writing statepoints        = 3.6488e-03 seconds\n",
      " Total time for finalization       = 7.1500e-04 seconds\n",
      " Total time elapsed                = 6.6403e-01 seconds\n",
      " Calculation Rate (active)         = 1.10824e+06 particles/second\n",
      "\n",
      " ============================>     RESULTS     <============================\n",
      "\n",
      " Leakage Fraction            = 1.00002 +/- 0.00002\n",
      "\n"
     ]
    }
   ],
   "source": [
    "# combine all the required parts to make a model\n",
    "model = openmc.model.Model(geom, mats, sett, tallies)\n",
    "\n",
    "# remove old files and runs OpenMC\n",
    "!rm *.h5\n",
    "results_filename = model.run()"
   ]
  },
  {
   "cell_type": "code",
   "execution_count": 23,
   "id": "ce3f75fa-5c5e-447e-a4b2-9b707ade12d2",
   "metadata": {},
   "outputs": [
    {
     "ename": "LookupError",
     "evalue": "Unable to get Tally",
     "output_type": "error",
     "traceback": [
      "\u001b[0;31m---------------------------------------------------------------------------\u001b[0m",
      "\u001b[0;31mLookupError\u001b[0m                               Traceback (most recent call last)",
      "Input \u001b[0;32mIn [23]\u001b[0m, in \u001b[0;36m<cell line: 2>\u001b[0;34m()\u001b[0m\n\u001b[1;32m      1\u001b[0m sp \u001b[38;5;241m=\u001b[39m openmc\u001b[38;5;241m.\u001b[39mStatePoint(results_filename)\n\u001b[0;32m----> 2\u001b[0m tally  \u001b[38;5;241m=\u001b[39m \u001b[43msp\u001b[49m\u001b[38;5;241;43m.\u001b[39;49m\u001b[43mget_tally\u001b[49m\u001b[43m(\u001b[49m\u001b[43mname\u001b[49m\u001b[38;5;241;43m=\u001b[39;49m\u001b[38;5;124;43m'\u001b[39;49m\u001b[38;5;124;43mdetector_tally\u001b[39;49m\u001b[38;5;124;43m'\u001b[39;49m\u001b[43m)\u001b[49m\n",
      "File \u001b[0;32m/opt/conda/lib/python3.8/site-packages/openmc/statepoint.py:639\u001b[0m, in \u001b[0;36mStatePoint.get_tally\u001b[0;34m(self, scores, filters, nuclides, name, id, estimator, exact_filters, exact_nuclides, exact_scores)\u001b[0m\n\u001b[1;32m    637\u001b[0m \u001b[38;5;66;03m# If we did not find the Tally, return an error message\u001b[39;00m\n\u001b[1;32m    638\u001b[0m \u001b[38;5;28;01mif\u001b[39;00m tally \u001b[38;5;129;01mis\u001b[39;00m \u001b[38;5;28;01mNone\u001b[39;00m:\n\u001b[0;32m--> 639\u001b[0m     \u001b[38;5;28;01mraise\u001b[39;00m \u001b[38;5;167;01mLookupError\u001b[39;00m(\u001b[38;5;124m'\u001b[39m\u001b[38;5;124mUnable to get Tally\u001b[39m\u001b[38;5;124m'\u001b[39m)\n\u001b[1;32m    641\u001b[0m \u001b[38;5;28;01mreturn\u001b[39;00m tally\n",
      "\u001b[0;31mLookupError\u001b[0m: Unable to get Tally"
     ]
    }
   ],
   "source": [
    "sp = openmc.StatePoint(results_filename)\n",
    "tally  = sp.get_tally(name='detector_tally')"
   ]
  },
  {
   "cell_type": "code",
   "execution_count": 20,
   "id": "beafe3e2-a805-429a-b499-c7fecfd855e6",
   "metadata": {},
   "outputs": [
    {
     "name": "stdout",
     "output_type": "stream",
     "text": [
      "                                %%%%%%%%%%%%%%%\n",
      "                           %%%%%%%%%%%%%%%%%%%%%%%%\n",
      "                        %%%%%%%%%%%%%%%%%%%%%%%%%%%%%%\n",
      "                      %%%%%%%%%%%%%%%%%%%%%%%%%%%%%%%%%%\n",
      "                    %%%%%%%%%%%%%%%%%%%%%%%%%%%%%%%%%%%%%%\n",
      "                   %%%%%%%%%%%%%%%%%%%%%%%%%%%%%%%%%%%%%%%%\n",
      "                                    %%%%%%%%%%%%%%%%%%%%%%%%\n",
      "                                     %%%%%%%%%%%%%%%%%%%%%%%%\n",
      "                 ###############      %%%%%%%%%%%%%%%%%%%%%%%%\n",
      "                ##################     %%%%%%%%%%%%%%%%%%%%%%%\n",
      "                ###################     %%%%%%%%%%%%%%%%%%%%%%%\n",
      "                ####################     %%%%%%%%%%%%%%%%%%%%%%\n",
      "                #####################     %%%%%%%%%%%%%%%%%%%%%\n",
      "                ######################     %%%%%%%%%%%%%%%%%%%%\n",
      "                #######################     %%%%%%%%%%%%%%%%%%\n",
      "                 #######################     %%%%%%%%%%%%%%%%%\n",
      "                 ######################     %%%%%%%%%%%%%%%%%\n",
      "                  ####################     %%%%%%%%%%%%%%%%%\n",
      "                    #################     %%%%%%%%%%%%%%%%%\n",
      "                     ###############     %%%%%%%%%%%%%%%%\n",
      "                       ############     %%%%%%%%%%%%%%%\n",
      "                          ########     %%%%%%%%%%%%%%\n",
      "                                      %%%%%%%%%%%\n",
      "\n",
      "                 | The OpenMC Monte Carlo Code\n",
      "       Copyright | 2011-2022 MIT, UChicago Argonne LLC, and contributors\n",
      "         License | https://docs.openmc.org/en/latest/license.html\n",
      "         Version | 0.14.0-dev\n",
      "        Git SHA1 | fa0f95642e440334ddd6aa2e97d24895d6274834\n",
      "       Date/Time | 2022-09-23 15:08:46\n",
      "  OpenMP Threads | 8\n",
      "\n",
      " Reading settings XML file...\n",
      " Reading cross sections XML file...\n",
      " Reading materials XML file...\n",
      " Reading geometry XML file...\n",
      " Reading tallies XML file...\n",
      " Preparing distributed cell instances...\n",
      " Reading plot XML file...\n",
      " WARNING: Color specifications ignored in voxel plot 9\n",
      "\n",
      " =======================>     PLOTTING SUMMARY     <========================\n",
      "\n",
      "Plot ID: 9\n",
      "Plot file: plot_lupin_geom.h5\n",
      "Universe depth: -1\n",
      "Plot Type: Voxel\n",
      "Origin: 0 0 0\n",
      "Width:  0.1  0.1  0.6\n",
      "Coloring: Materials\n",
      "Voxels: 500 500 500\n",
      "\n",
      " Processing plot 9: plot_lupin_geom.h5...\n",
      "Reading and translating data...\n",
      "Writing VTK file plot_lupin_geom.vti...\n"
     ]
    },
    {
     "data": {
      "text/plain": [
       "0"
      ]
     },
     "execution_count": 20,
     "metadata": {},
     "output_type": "execute_result"
    }
   ],
   "source": [
    "#print geometry\n",
    "vox_plot = openmc.Plot()\n",
    "vox_plot.type = 'voxel'\n",
    "vox_plot.width = (0.1,0.1,0.6)\n",
    "vox_plot.pixels = (500,500,500)\n",
    "vox_plot.filename = 'plot_lupin_geom'\n",
    "vox_plot.color_by = 'material'\n",
    "vox_plot.colors = {bf3: 'blue', al: 'black', polyethylene: 'green'}\n",
    "plots = openmc.Plots([vox_plot])\n",
    "plots.export_to_xml()\n",
    "openmc.plot_geometry()\n",
    "\n",
    "import os\n",
    "os.system('openmc-voxel-to-vtk plot_lupin_geom.h5 -o plot_lupin_geom.vti')"
   ]
  },
  {
   "cell_type": "code",
   "execution_count": null,
   "id": "33540278-0913-4195-a13b-af75f87f4e86",
   "metadata": {},
   "outputs": [],
   "source": []
  }
 ],
 "metadata": {
  "kernelspec": {
   "display_name": "Python 3 (ipykernel)",
   "language": "python",
   "name": "python3"
  },
  "language_info": {
   "codemirror_mode": {
    "name": "ipython",
    "version": 3
   },
   "file_extension": ".py",
   "mimetype": "text/x-python",
   "name": "python",
   "nbconvert_exporter": "python",
   "pygments_lexer": "ipython3",
   "version": "3.8.13"
  }
 },
 "nbformat": 4,
 "nbformat_minor": 5
}
