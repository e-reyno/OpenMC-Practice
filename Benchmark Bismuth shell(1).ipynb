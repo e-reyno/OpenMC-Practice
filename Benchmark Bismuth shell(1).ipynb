{
 "cells": [
  {
   "cell_type": "code",
   "execution_count": 69,
   "id": "623e0953-9175-436c-80f9-5968203b9c8b",
   "metadata": {},
   "outputs": [],
   "source": [
    "\n",
    "import openmc\n",
    "import matplotlib.pyplot as plt\n",
    "import openmc_source_plotter\n",
    "import numpy as np\n",
    "import neutronics_material_maker as nmm"
   ]
  },
  {
   "cell_type": "code",
   "execution_count": 187,
   "id": "bcc90727-8897-4c69-8c37-6158f1ce4efe",
   "metadata": {},
   "outputs": [],
   "source": [
    "#import real measurement data\n",
    "\n",
    "res_path = \"results_bi_cf.txt\"\n",
    "\n",
    "with open(res_path) as myfile:\n",
    "  data = myfile.readlines()\n",
    "\n",
    "data = data[5:]\n",
    "\n",
    "erg = []\n",
    "meas_value = []\n",
    "meas_uncert = []\n",
    "\n",
    "for line in data:\n",
    "    line = line.strip()\n",
    "    line =  \" \".join(line.split())\n",
    "    line = line.split()\n",
    "    erg.append(float(line[0]))\n",
    "    meas_value.append(float(line[1]))\n",
    "    meas_uncert.append(float(line[4]))"
   ]
  },
  {
   "cell_type": "code",
   "execution_count": 115,
   "id": "eaaa2b0c-8b24-41a4-9ca3-9cd537de2f69",
   "metadata": {},
   "outputs": [
    {
     "data": {
      "image/png": "[encoded data removed]",
      "text/plain": [
       "<Figure size 258.065x259.74 with 1 Axes>"
      ]
     },
     "metadata": {},
     "output_type": "display_data"
    },
    {
     "data": {
      "image/png": "[encoded data removed]",
      "text/plain": [
       "<Figure size 258.065x259.74 with 1 Axes>"
      ]
     },
     "metadata": {},
     "output_type": "display_data"
    },
    {
     "data": {
      "image/png": "[encoded data removed]",
      "text/plain": [
       "<Figure size 258.065x259.74 with 1 Axes>"
      ]
     },
     "metadata": {},
     "output_type": "display_data"
    }
   ],
   "source": [
    "Bi = openmc.Material(name='Bi209')\n",
    "Bi.add_nuclide('Bi209',1)\n",
    "\n",
    "mats = openmc.Materials([Bi])\n",
    "\n",
    "outer_shell = openmc.Sphere(r=0.12)\n",
    "inner_shell = openmc.Sphere(r=0.03)\n",
    "\n",
    "detector_outer_surface = openmc.Sphere(r=6.8, boundary_type='vacuum')\n",
    "detector_surface = openmc.Sphere(r=6.79)\n",
    "\n",
    "bi_shell = -outer_shell &  +inner_shell\n",
    "shell_cell = openmc.Cell(region=bi_shell)\n",
    "shell_cell.fill = Bi\n",
    "\n",
    "detector_cell = openmc.Cell(region=-detector_surface & +outer_shell)\n",
    "outer = openmc.Cell(region=-detector_outer_surface & +detector_surface)\n",
    "inner_cell = openmc.Cell(region=-inner_shell)\n",
    "\n",
    "universe = openmc.Universe(cells=[shell_cell, detector_cell, inner_cell, outer])\n",
    "\n",
    "x,y = 1,1\n",
    "\n",
    "plt.show(universe.plot(width=(x, y), basis='xz'))\n",
    "plt.show(universe.plot(width=(x, y), basis='xy'))\n",
    "plt.show(universe.plot(width=(x, y), basis='yz'))\n",
    "\n",
    "geom = openmc.Geometry(universe)"
   ]
  },
  {
   "cell_type": "code",
   "execution_count": 116,
   "id": "e2b7a08d-3bef-4090-ba48-36547fc08ced",
   "metadata": {},
   "outputs": [],
   "source": [
    "#settings\n",
    "sett = openmc.Settings()\n",
    "sett.batches = 5\n",
    "sett.inactive = 0\n",
    "sett.particles = 100000\n",
    "sett.run_mode = 'fixed source'\n"
   ]
  },
  {
   "cell_type": "code",
   "execution_count": 117,
   "id": "60d9e6c1-e275-401a-be9f-8f9d3eb8becb",
   "metadata": {},
   "outputs": [],
   "source": [
    "#create the neutron source \n",
    "source = openmc.Source()\n",
    "source.space = openmc.stats.Point((0,0,0))\n",
    "source.angle = openmc.stats.Isotropic() \n",
    "#cf-252 energy distribution (spontaneous fission) taken from: https://journals.aps.org/pr/pdf/10.1103/PhysRev.108.411\n",
    "source.energy = openmc.stats.Watt(a=1.209e6, b=(1/(0.836e6)))\n",
    "source.particle = 'neutron'\n",
    "sett.source = source"
   ]
  },
  {
   "cell_type": "code",
   "execution_count": 188,
   "id": "e30f1d91-b5f4-4306-8c05-d6a5e4fbec95",
   "metadata": {},
   "outputs": [],
   "source": [
    "#tally\n",
    "tallies = openmc.Tallies()\n",
    "energy_bins = np.array(erg)\n",
    "energy_filter = openmc.EnergyFilter(energy_bins)\n",
    "\n",
    "neutron_particle_filter = openmc.ParticleFilter(['neutron'])\n",
    "\n",
    "surface_filter = openmc.SurfaceFilter(detector_surface)\n",
    "\n",
    "detector_surface_tally = openmc.Tally(name='detector_surface_tally')\n",
    "detector_surface_tally.scores = ['current']\n",
    "detector_surface_tally.filters = [energy_filter, neutron_particle_filter, surface_filter]\n",
    "tallies.append(detector_surface_tally)\n",
    "\n",
    "shell_surface_filter = openmc.SurfaceFilter(outer_shell)\n",
    "outer_bi_tally = openmc.Tally(name='outer_bi_tally')\n",
    "outer_bi_tally.scores = ['current']\n",
    "outer_bi_tally.filters = [energy_filter, neutron_particle_filter, shell_surface_filter]\n",
    "tallies.append(outer_bi_tally)"
   ]
  },
  {
   "cell_type": "code",
   "execution_count": 189,
   "id": "ba0aea4c-2445-4edd-9e0b-c415912117ef",
   "metadata": {},
   "outputs": [
    {
     "name": "stdout",
     "output_type": "stream",
     "text": [
      "                                %%%%%%%%%%%%%%%\n",
      "                           %%%%%%%%%%%%%%%%%%%%%%%%\n",
      "                        %%%%%%%%%%%%%%%%%%%%%%%%%%%%%%\n",
      "                      %%%%%%%%%%%%%%%%%%%%%%%%%%%%%%%%%%\n",
      "                    %%%%%%%%%%%%%%%%%%%%%%%%%%%%%%%%%%%%%%\n",
      "                   %%%%%%%%%%%%%%%%%%%%%%%%%%%%%%%%%%%%%%%%\n",
      "                                    %%%%%%%%%%%%%%%%%%%%%%%%\n",
      "                                     %%%%%%%%%%%%%%%%%%%%%%%%\n",
      "                 ###############      %%%%%%%%%%%%%%%%%%%%%%%%\n",
      "                ##################     %%%%%%%%%%%%%%%%%%%%%%%\n",
      "                ###################     %%%%%%%%%%%%%%%%%%%%%%%\n",
      "                ####################     %%%%%%%%%%%%%%%%%%%%%%\n",
      "                #####################     %%%%%%%%%%%%%%%%%%%%%\n",
      "                ######################     %%%%%%%%%%%%%%%%%%%%\n",
      "                #######################     %%%%%%%%%%%%%%%%%%\n",
      "                 #######################     %%%%%%%%%%%%%%%%%\n",
      "                 ######################     %%%%%%%%%%%%%%%%%\n",
      "                  ####################     %%%%%%%%%%%%%%%%%\n",
      "                    #################     %%%%%%%%%%%%%%%%%\n",
      "                     ###############     %%%%%%%%%%%%%%%%\n",
      "                       ############     %%%%%%%%%%%%%%%\n",
      "                          ########     %%%%%%%%%%%%%%\n",
      "                                      %%%%%%%%%%%\n",
      "\n",
      "                 | The OpenMC Monte Carlo Code\n",
      "       Copyright | 2011-2022 MIT, UChicago Argonne LLC, and contributors\n",
      "         License | https://docs.openmc.org/en/latest/license.html\n",
      "         Version | 0.14.0-dev\n",
      "        Git SHA1 | fa0f95642e440334ddd6aa2e97d24895d6274834\n",
      "       Date/Time | 2022-09-13 15:49:02\n",
      "  OpenMP Threads | 8\n",
      "\n",
      " Reading settings XML file...\n",
      " Reading cross sections XML file...\n",
      " Reading materials XML file...\n",
      " Reading geometry XML file...\n",
      " Reading Bi209 from /nuclear_data/ENDFB-7.1-NNDC_Bi209.h5\n",
      " Minimum neutron data temperature: 294 K\n",
      " Maximum neutron data temperature: 294 K\n",
      " Reading tallies XML file...\n",
      " Preparing distributed cell instances...\n",
      " Reading plot XML file...\n",
      " Writing summary.h5 file...\n",
      " Maximum neutron transport energy: 150000000 eV for Bi209\n",
      "\n",
      " ===============>     FIXED SOURCE TRANSPORT SIMULATION     <===============\n",
      "\n",
      " Simulating batch 1\n",
      " Simulating batch 2\n",
      " Simulating batch 3\n",
      " Simulating batch 4\n",
      " Simulating batch 5\n",
      " Creating state point statepoint.5.h5...\n",
      "\n",
      " =======================>     TIMING STATISTICS     <=======================\n",
      "\n",
      " Total time for initialization     = 1.2194e-01 seconds\n",
      "   Reading cross sections          = 8.7021e-02 seconds\n",
      " Total time in simulation          = 5.5440e-01 seconds\n",
      "   Time in transport only          = 5.2115e-01 seconds\n",
      "   Time in active batches          = 5.5440e-01 seconds\n",
      "   Time accumulating tallies       = 2.4594e-02 seconds\n",
      "   Time writing statepoints        = 7.9348e-03 seconds\n",
      " Total time for finalization       = 1.3377e-03 seconds\n",
      " Total time elapsed                = 6.7831e-01 seconds\n",
      " Calculation Rate (active)         = 901869 particles/second\n",
      "\n",
      " ============================>     RESULTS     <============================\n",
      "\n",
      " Leakage Fraction            = 1.00068 +/- 0.00006\n",
      "\n"
     ]
    }
   ],
   "source": [
    "# combine all the required parts to make a model\n",
    "model = openmc.model.Model(geom, mats, sett, tallies)\n",
    "\n",
    "# remove old files and runs OpenMC\n",
    "!rm *.h5\n",
    "results_filename = model.run()"
   ]
  },
  {
   "cell_type": "code",
   "execution_count": 193,
   "id": "37ab339d-8f4f-48d0-b562-3c4d0d08e7c5",
   "metadata": {},
   "outputs": [],
   "source": [
    "# open the results file\n",
    "import pandas as pd\n",
    "results = openmc.StatePoint(results_filename)\n",
    "\n",
    "#extracts the tally values from the simulation results\n",
    "cell_tally = results.get_tally(name='detector_surface_tally')\n",
    "print(cell_tally."
   ]
  },
  {
   "cell_type": "code",
   "execution_count": 192,
   "id": "1aa52d6a-63c3-4bb7-b355-2deb7563d6e5",
   "metadata": {},
   "outputs": [
    {
     "name": "stdout",
     "output_type": "stream",
     "text": [
      "[6.927e-08 8.947e-08 1.096e-07 1.297e-07 1.497e-07 1.698e-07 1.898e-07\n",
      " 2.096e-07 2.434e-07 2.935e-07 3.439e-07 3.942e-07 4.443e-07 4.946e-07\n",
      " 5.679e-07 6.676e-07 7.682e-07 8.700e-07 9.693e-07 1.114e-06 1.313e-06\n",
      " 1.512e-06 1.718e-06 1.925e-06 2.124e-06 2.321e-06 2.522e-06 2.722e-06\n",
      " 2.915e-06 3.202e-06 3.617e-06 4.013e-06 4.392e-06 4.794e-06 5.295e-06\n",
      " 5.920e-06 6.502e-06 7.059e-06 7.690e-06 8.332e-06 8.889e-06 9.507e-06\n",
      " 1.019e-05 1.083e-05 1.155e-05 1.233e-05 1.319e-05]\n",
      "[0. 0. 0. 0. 0. 0. 0. 0. 0. 0. 0. 0. 0. 0. 0. 0. 0. 0. 0. 0. 0. 0. 0. 0.\n",
      " 0. 0. 0. 0. 0. 0. 0. 0. 0. 0. 0. 0. 0. 0. 0. 0. 0. 0. 0. 0. 0. 0.]\n"
     ]
    },
    {
     "ename": "ValueError",
     "evalue": "x and y must have same first dimension, but have shapes (47,) and (46,)",
     "output_type": "error",
     "traceback": [
      "\u001b[0;31m---------------------------------------------------------------------------\u001b[0m",
      "\u001b[0;31mValueError\u001b[0m                                Traceback (most recent call last)",
      "Input \u001b[0;32mIn [192]\u001b[0m, in \u001b[0;36m<cell line: 9>\u001b[0;34m()\u001b[0m\n\u001b[1;32m      6\u001b[0m \u001b[38;5;28mprint\u001b[39m(energy)\n\u001b[1;32m      7\u001b[0m \u001b[38;5;28mprint\u001b[39m(flux)\n\u001b[0;32m----> 9\u001b[0m \u001b[43mplt\u001b[49m\u001b[38;5;241;43m.\u001b[39;49m\u001b[43mstep\u001b[49m\u001b[43m(\u001b[49m\u001b[43menergy\u001b[49m\u001b[43m,\u001b[49m\u001b[43m \u001b[49m\u001b[43mflux\u001b[49m\u001b[43m)\u001b[49m\n\u001b[1;32m     12\u001b[0m plt\u001b[38;5;241m.\u001b[39mstep(erg, meas_value)\n\u001b[1;32m     13\u001b[0m plt\u001b[38;5;241m.\u001b[39mxlabel(\u001b[38;5;124m\"\u001b[39m\u001b[38;5;124mEnergy (MeV)\u001b[39m\u001b[38;5;124m\"\u001b[39m)\n",
      "File \u001b[0;32m/opt/conda/lib/python3.8/site-packages/matplotlib/pyplot.py:3145\u001b[0m, in \u001b[0;36mstep\u001b[0;34m(x, y, where, data, *args, **kwargs)\u001b[0m\n\u001b[1;32m   3143\u001b[0m \u001b[38;5;129m@_copy_docstring_and_deprecators\u001b[39m(Axes\u001b[38;5;241m.\u001b[39mstep)\n\u001b[1;32m   3144\u001b[0m \u001b[38;5;28;01mdef\u001b[39;00m \u001b[38;5;21mstep\u001b[39m(x, y, \u001b[38;5;241m*\u001b[39margs, where\u001b[38;5;241m=\u001b[39m\u001b[38;5;124m'\u001b[39m\u001b[38;5;124mpre\u001b[39m\u001b[38;5;124m'\u001b[39m, data\u001b[38;5;241m=\u001b[39m\u001b[38;5;28;01mNone\u001b[39;00m, \u001b[38;5;241m*\u001b[39m\u001b[38;5;241m*\u001b[39mkwargs):\n\u001b[0;32m-> 3145\u001b[0m     \u001b[38;5;28;01mreturn\u001b[39;00m \u001b[43mgca\u001b[49m\u001b[43m(\u001b[49m\u001b[43m)\u001b[49m\u001b[38;5;241;43m.\u001b[39;49m\u001b[43mstep\u001b[49m\u001b[43m(\u001b[49m\n\u001b[1;32m   3146\u001b[0m \u001b[43m        \u001b[49m\u001b[43mx\u001b[49m\u001b[43m,\u001b[49m\u001b[43m \u001b[49m\u001b[43my\u001b[49m\u001b[43m,\u001b[49m\u001b[43m \u001b[49m\u001b[38;5;241;43m*\u001b[39;49m\u001b[43margs\u001b[49m\u001b[43m,\u001b[49m\u001b[43m \u001b[49m\u001b[43mwhere\u001b[49m\u001b[38;5;241;43m=\u001b[39;49m\u001b[43mwhere\u001b[49m\u001b[43m,\u001b[49m\n\u001b[1;32m   3147\u001b[0m \u001b[43m        \u001b[49m\u001b[38;5;241;43m*\u001b[39;49m\u001b[38;5;241;43m*\u001b[39;49m\u001b[43m(\u001b[49m\u001b[43m{\u001b[49m\u001b[38;5;124;43m\"\u001b[39;49m\u001b[38;5;124;43mdata\u001b[39;49m\u001b[38;5;124;43m\"\u001b[39;49m\u001b[43m:\u001b[49m\u001b[43m \u001b[49m\u001b[43mdata\u001b[49m\u001b[43m}\u001b[49m\u001b[43m \u001b[49m\u001b[38;5;28;43;01mif\u001b[39;49;00m\u001b[43m \u001b[49m\u001b[43mdata\u001b[49m\u001b[43m \u001b[49m\u001b[38;5;129;43;01mis\u001b[39;49;00m\u001b[43m \u001b[49m\u001b[38;5;129;43;01mnot\u001b[39;49;00m\u001b[43m \u001b[49m\u001b[38;5;28;43;01mNone\u001b[39;49;00m\u001b[43m \u001b[49m\u001b[38;5;28;43;01melse\u001b[39;49;00m\u001b[43m \u001b[49m\u001b[43m{\u001b[49m\u001b[43m}\u001b[49m\u001b[43m)\u001b[49m\u001b[43m,\u001b[49m\u001b[43m \u001b[49m\u001b[38;5;241;43m*\u001b[39;49m\u001b[38;5;241;43m*\u001b[39;49m\u001b[43mkwargs\u001b[49m\u001b[43m)\u001b[49m\n",
      "File \u001b[0;32m/opt/conda/lib/python3.8/site-packages/matplotlib/axes/_axes.py:2082\u001b[0m, in \u001b[0;36mAxes.step\u001b[0;34m(self, x, y, where, data, *args, **kwargs)\u001b[0m\n\u001b[1;32m   2080\u001b[0m _api\u001b[38;5;241m.\u001b[39mcheck_in_list((\u001b[38;5;124m'\u001b[39m\u001b[38;5;124mpre\u001b[39m\u001b[38;5;124m'\u001b[39m, \u001b[38;5;124m'\u001b[39m\u001b[38;5;124mpost\u001b[39m\u001b[38;5;124m'\u001b[39m, \u001b[38;5;124m'\u001b[39m\u001b[38;5;124mmid\u001b[39m\u001b[38;5;124m'\u001b[39m), where\u001b[38;5;241m=\u001b[39mwhere)\n\u001b[1;32m   2081\u001b[0m kwargs[\u001b[38;5;124m'\u001b[39m\u001b[38;5;124mdrawstyle\u001b[39m\u001b[38;5;124m'\u001b[39m] \u001b[38;5;241m=\u001b[39m \u001b[38;5;124m'\u001b[39m\u001b[38;5;124msteps-\u001b[39m\u001b[38;5;124m'\u001b[39m \u001b[38;5;241m+\u001b[39m where\n\u001b[0;32m-> 2082\u001b[0m \u001b[38;5;28;01mreturn\u001b[39;00m \u001b[38;5;28;43mself\u001b[39;49m\u001b[38;5;241;43m.\u001b[39;49m\u001b[43mplot\u001b[49m\u001b[43m(\u001b[49m\u001b[43mx\u001b[49m\u001b[43m,\u001b[49m\u001b[43m \u001b[49m\u001b[43my\u001b[49m\u001b[43m,\u001b[49m\u001b[43m \u001b[49m\u001b[38;5;241;43m*\u001b[39;49m\u001b[43margs\u001b[49m\u001b[43m,\u001b[49m\u001b[43m \u001b[49m\u001b[43mdata\u001b[49m\u001b[38;5;241;43m=\u001b[39;49m\u001b[43mdata\u001b[49m\u001b[43m,\u001b[49m\u001b[43m \u001b[49m\u001b[38;5;241;43m*\u001b[39;49m\u001b[38;5;241;43m*\u001b[39;49m\u001b[43mkwargs\u001b[49m\u001b[43m)\u001b[49m\n",
      "File \u001b[0;32m/opt/conda/lib/python3.8/site-packages/matplotlib/axes/_axes.py:1605\u001b[0m, in \u001b[0;36mAxes.plot\u001b[0;34m(self, scalex, scaley, data, *args, **kwargs)\u001b[0m\n\u001b[1;32m   1363\u001b[0m \u001b[38;5;124;03m\"\"\"\u001b[39;00m\n\u001b[1;32m   1364\u001b[0m \u001b[38;5;124;03mPlot y versus x as lines and/or markers.\u001b[39;00m\n\u001b[1;32m   1365\u001b[0m \n\u001b[0;32m   (...)\u001b[0m\n\u001b[1;32m   1602\u001b[0m \u001b[38;5;124;03m(``'green'``) or hex strings (``'#008000'``).\u001b[39;00m\n\u001b[1;32m   1603\u001b[0m \u001b[38;5;124;03m\"\"\"\u001b[39;00m\n\u001b[1;32m   1604\u001b[0m kwargs \u001b[38;5;241m=\u001b[39m cbook\u001b[38;5;241m.\u001b[39mnormalize_kwargs(kwargs, mlines\u001b[38;5;241m.\u001b[39mLine2D)\n\u001b[0;32m-> 1605\u001b[0m lines \u001b[38;5;241m=\u001b[39m [\u001b[38;5;241m*\u001b[39m\u001b[38;5;28mself\u001b[39m\u001b[38;5;241m.\u001b[39m_get_lines(\u001b[38;5;241m*\u001b[39margs, data\u001b[38;5;241m=\u001b[39mdata, \u001b[38;5;241m*\u001b[39m\u001b[38;5;241m*\u001b[39mkwargs)]\n\u001b[1;32m   1606\u001b[0m \u001b[38;5;28;01mfor\u001b[39;00m line \u001b[38;5;129;01min\u001b[39;00m lines:\n\u001b[1;32m   1607\u001b[0m     \u001b[38;5;28mself\u001b[39m\u001b[38;5;241m.\u001b[39madd_line(line)\n",
      "File \u001b[0;32m/opt/conda/lib/python3.8/site-packages/matplotlib/axes/_base.py:315\u001b[0m, in \u001b[0;36m_process_plot_var_args.__call__\u001b[0;34m(self, data, *args, **kwargs)\u001b[0m\n\u001b[1;32m    313\u001b[0m     this \u001b[38;5;241m+\u001b[39m\u001b[38;5;241m=\u001b[39m args[\u001b[38;5;241m0\u001b[39m],\n\u001b[1;32m    314\u001b[0m     args \u001b[38;5;241m=\u001b[39m args[\u001b[38;5;241m1\u001b[39m:]\n\u001b[0;32m--> 315\u001b[0m \u001b[38;5;28;01myield from\u001b[39;00m \u001b[38;5;28;43mself\u001b[39;49m\u001b[38;5;241;43m.\u001b[39;49m\u001b[43m_plot_args\u001b[49m\u001b[43m(\u001b[49m\u001b[43mthis\u001b[49m\u001b[43m,\u001b[49m\u001b[43m \u001b[49m\u001b[43mkwargs\u001b[49m\u001b[43m)\u001b[49m\n",
      "File \u001b[0;32m/opt/conda/lib/python3.8/site-packages/matplotlib/axes/_base.py:501\u001b[0m, in \u001b[0;36m_process_plot_var_args._plot_args\u001b[0;34m(self, tup, kwargs, return_kwargs)\u001b[0m\n\u001b[1;32m    498\u001b[0m     \u001b[38;5;28mself\u001b[39m\u001b[38;5;241m.\u001b[39maxes\u001b[38;5;241m.\u001b[39myaxis\u001b[38;5;241m.\u001b[39mupdate_units(y)\n\u001b[1;32m    500\u001b[0m \u001b[38;5;28;01mif\u001b[39;00m x\u001b[38;5;241m.\u001b[39mshape[\u001b[38;5;241m0\u001b[39m] \u001b[38;5;241m!=\u001b[39m y\u001b[38;5;241m.\u001b[39mshape[\u001b[38;5;241m0\u001b[39m]:\n\u001b[0;32m--> 501\u001b[0m     \u001b[38;5;28;01mraise\u001b[39;00m \u001b[38;5;167;01mValueError\u001b[39;00m(\u001b[38;5;124mf\u001b[39m\u001b[38;5;124m\"\u001b[39m\u001b[38;5;124mx and y must have same first dimension, but \u001b[39m\u001b[38;5;124m\"\u001b[39m\n\u001b[1;32m    502\u001b[0m                      \u001b[38;5;124mf\u001b[39m\u001b[38;5;124m\"\u001b[39m\u001b[38;5;124mhave shapes \u001b[39m\u001b[38;5;132;01m{\u001b[39;00mx\u001b[38;5;241m.\u001b[39mshape\u001b[38;5;132;01m}\u001b[39;00m\u001b[38;5;124m and \u001b[39m\u001b[38;5;132;01m{\u001b[39;00my\u001b[38;5;241m.\u001b[39mshape\u001b[38;5;132;01m}\u001b[39;00m\u001b[38;5;124m\"\u001b[39m)\n\u001b[1;32m    503\u001b[0m \u001b[38;5;28;01mif\u001b[39;00m x\u001b[38;5;241m.\u001b[39mndim \u001b[38;5;241m>\u001b[39m \u001b[38;5;241m2\u001b[39m \u001b[38;5;129;01mor\u001b[39;00m y\u001b[38;5;241m.\u001b[39mndim \u001b[38;5;241m>\u001b[39m \u001b[38;5;241m2\u001b[39m:\n\u001b[1;32m    504\u001b[0m     \u001b[38;5;28;01mraise\u001b[39;00m \u001b[38;5;167;01mValueError\u001b[39;00m(\u001b[38;5;124mf\u001b[39m\u001b[38;5;124m\"\u001b[39m\u001b[38;5;124mx and y can be no greater than 2D, but have \u001b[39m\u001b[38;5;124m\"\u001b[39m\n\u001b[1;32m    505\u001b[0m                      \u001b[38;5;124mf\u001b[39m\u001b[38;5;124m\"\u001b[39m\u001b[38;5;124mshapes \u001b[39m\u001b[38;5;132;01m{\u001b[39;00mx\u001b[38;5;241m.\u001b[39mshape\u001b[38;5;132;01m}\u001b[39;00m\u001b[38;5;124m and \u001b[39m\u001b[38;5;132;01m{\u001b[39;00my\u001b[38;5;241m.\u001b[39mshape\u001b[38;5;132;01m}\u001b[39;00m\u001b[38;5;124m\"\u001b[39m)\n",
      "\u001b[0;31mValueError\u001b[0m: x and y must have same first dimension, but have shapes (47,) and (46,)"
     ]
    },
    {
     "data": {
      "image/png": "[encoded data removed]",
      "text/plain": [
       "<Figure size 640x480 with 1 Axes>"
      ]
     },
     "metadata": {},
     "output_type": "display_data"
    }
   ],
   "source": [
    "flux = cell_tally.mean.ravel()\n",
    "flux_unc = cell_tally.std_dev.ravel()\n",
    "energy = np.array(erg)\n",
    "energy = energy/10e5\n",
    "flux = flux *10\n",
    "print(energy)\n",
    "print(flux)\n",
    "\n",
    "plt.step(energy, flux)\n",
    "\n",
    "\n",
    "plt.step(erg, meas_value)\n",
    "plt.xlabel(\"Energy (MeV)\")\n",
    "plt.ylabel(\"Intensity (n/MeV)\")\n",
    "plt.show()"
   ]
  },
  {
   "cell_type": "code",
   "execution_count": null,
   "id": "d2bbfa36-824a-45a4-bb51-d8d69955ae4d",
   "metadata": {},
   "outputs": [],
   "source": []
  }
 ],
 "metadata": {
  "kernelspec": {
   "display_name": "Python 3 (ipykernel)",
   "language": "python",
   "name": "python3"
  },
  "language_info": {
   "codemirror_mode": {
    "name": "ipython",
    "version": 3
   },
   "file_extension": ".py",
   "mimetype": "text/x-python",
   "name": "python",
   "nbconvert_exporter": "python",
   "pygments_lexer": "ipython3",
   "version": "3.8.13"
  }
 },
 "nbformat": 4,
 "nbformat_minor": 5
}
